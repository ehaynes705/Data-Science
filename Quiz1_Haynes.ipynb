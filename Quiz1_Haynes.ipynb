{
  "nbformat": 4,
  "nbformat_minor": 0,
  "metadata": {
    "colab": {
      "name": "Quiz1.ipynb",
      "provenance": [],
      "collapsed_sections": [],
      "include_colab_link": true
    },
    "kernelspec": {
      "name": "python3",
      "display_name": "Python 3"
    }
  },
  "cells": [
    {
      "cell_type": "markdown",
      "metadata": {
        "id": "view-in-github",
        "colab_type": "text"
      },
      "source": [
        "<a href=\"https://colab.research.google.com/github/ehaynes705/Data-Science/blob/master/Quiz1_Haynes.ipynb\" target=\"_parent\"><img src=\"https://colab.research.google.com/assets/colab-badge.svg\" alt=\"Open In Colab\"/></a>"
      ]
    },
    {
      "cell_type": "markdown",
      "metadata": {
        "id": "cT99hSTLhYRq",
        "colab_type": "text"
      },
      "source": [
        "# **Quiz 1: Data Science Toolbox**\n",
        "\n",
        "**Prepared by**: Dr. Hum Nath Bhandari\n",
        "\n",
        "**Institution**: Roger Williams University\n",
        "\n",
        "**Department**: Mathematics Department\n",
        "\n",
        "**Student Name**: Ethan Haynes\n",
        "\n",
        "\n",
        "\n",
        "### **Learning Outcome**\n",
        "\n",
        "In this quiz you will be tested for your understanding of software installations and files management.\n",
        "\n",
        "\n",
        "\n",
        "\n",
        "\n"
      ]
    },
    {
      "cell_type": "markdown",
      "metadata": {
        "id": "f6f0xQEGgIiR",
        "colab_type": "text"
      },
      "source": [
        ""
      ]
    },
    {
      "cell_type": "markdown",
      "metadata": {
        "id": "sxlexYASjWX0",
        "colab_type": "text"
      },
      "source": [
        "**Question 1**: \n",
        "- Download this Quiz and save into your local machine inside **Data Science** folder (you created this folder during my class). \n",
        "- Open the Quiz by using Jupyter notebook (Jupyter comes with anaconda installation). \n",
        "- Complete the first cell of this notebook by writing your name. \n"
      ]
    },
    {
      "cell_type": "markdown",
      "metadata": {
        "id": "_E-qk2w01sTd",
        "colab_type": "text"
      },
      "source": [
        ""
      ]
    },
    {
      "cell_type": "code",
      "metadata": {
        "id": "uVEq_5SB1pzz",
        "colab_type": "code",
        "colab": {}
      },
      "source": [
        "print(\"Ethan Haynes\")\n"
      ],
      "execution_count": null,
      "outputs": []
    },
    {
      "cell_type": "markdown",
      "metadata": {
        "id": "7G5X58t_1qJC",
        "colab_type": "text"
      },
      "source": [
        ""
      ]
    },
    {
      "cell_type": "markdown",
      "metadata": {
        "id": "B4XeFkUt0VL0",
        "colab_type": "text"
      },
      "source": [
        "**Question 2**: Write a **Hello world** python program  below.  "
      ]
    },
    {
      "cell_type": "code",
      "metadata": {
        "id": "CHMgPHgp10eC",
        "colab_type": "code",
        "colab": {}
      },
      "source": [
        "print(\"hello world\")\n"
      ],
      "execution_count": null,
      "outputs": []
    },
    {
      "cell_type": "markdown",
      "metadata": {
        "id": "nzT-Pb7P1JYo",
        "colab_type": "text"
      },
      "source": [
        "**Question 3**: Create a python script file, called **my_first_file.py** using editor of spyder and write a python program to print: \"Welcome to data science class!\". Take a screenshot of the result from your program and insert the screenshot picture in the following cell. See [here](https://www.youtube.com/watch?v=Vw1EZh1My8s) for the guidelines of importing picture in notebook.\n"
      ]
    },
    {
      "cell_type": "markdown",
      "metadata": {
        "id": "gXw1QQcU2F5S",
        "colab_type": "text"
      },
      "source": [
        "![](my.first_file.py.png)"
      ]
    },
    {
      "cell_type": "code",
      "metadata": {
        "id": "FzqS8aLMJf04",
        "colab_type": "code",
        "colab": {
          "base_uri": "https://localhost:8080/",
          "height": 51
        },
        "outputId": "b2c5b7a7-b2c1-43bd-dfdd-03977825e145"
      },
      "source": [
        "![](my_first_file.jpg)\n"
      ],
      "execution_count": 1,
      "outputs": [
        {
          "output_type": "stream",
          "text": [
            "/bin/bash: -c: line 0: syntax error near unexpected token `my_first_file.jpg'\n",
            "/bin/bash: -c: line 0: `[](my_first_file.jpg)'\n"
          ],
          "name": "stdout"
        }
      ]
    },
    {
      "cell_type": "markdown",
      "metadata": {
        "id": "qLzdZSYqhQ52",
        "colab_type": "text"
      },
      "source": [
        "**Question 4**: After you are done upto **Question 3**, copy your quiz from your local machine to Google Drive and put into **Data Science** folder (I assume you created this folder based on our discussions in the class). Now open the file using Google Colab. Write a python program below to print: \"Welcome back from Google Colab!\". Provide a link of Colab url below. \n",
        "\n",
        "\n",
        "\n"
      ]
    },
    {
      "cell_type": "code",
      "metadata": {
        "id": "v92v3z658gyd",
        "colab_type": "code",
        "colab": {}
      },
      "source": [
        "print(\"Welcome back from Google Colab!\")\n",
        "\n",
        "https://drive.google.com/drive/folders/1abcOiIkUhY8LUB3ciuhSCWCkgPEfZrkW?q=owner:me%20(type:application/vnd.google.colaboratory%20||%20type:application/vnd.google.colab)\n",
        "    "
      ],
      "execution_count": null,
      "outputs": []
    },
    {
      "cell_type": "markdown",
      "metadata": {
        "id": "9ZnqFXPw8hk1",
        "colab_type": "text"
      },
      "source": [
        "**Question 5**: After you are done with **Question 4**, save a copy of this quiz in Github inside **Data \n",
        "Science** folder which you had created based on our class discussion.\n"
      ]
    },
    {
      "cell_type": "code",
      "metadata": {
        "id": "J_NeS4oo_1mb",
        "colab_type": "code",
        "colab": {}
      },
      "source": [
        "https://github.com/ehaynes705/Data-Science/blob/master/quiz1.py\n"
      ],
      "execution_count": null,
      "outputs": []
    },
    {
      "cell_type": "markdown",
      "metadata": {
        "id": "ULgrcXkZ_Dzi",
        "colab_type": "text"
      },
      "source": [
        "\n",
        "**Question 6**: Provide a GitHub url of this quiz in the following cell. "
      ]
    },
    {
      "cell_type": "code",
      "metadata": {
        "id": "hkdbnDUF_8tJ",
        "colab_type": "code",
        "colab": {
          "base_uri": "https://localhost:8080/",
          "height": 129
        },
        "outputId": "b7201b41-11a4-4741-baf1-b386a35419f1"
      },
      "source": [
        "https://github.com/gen5isbettter/Data-Science"
      ],
      "execution_count": null,
      "outputs": [
        {
          "output_type": "error",
          "ename": "SyntaxError",
          "evalue": "ignored",
          "traceback": [
            "\u001b[0;36m  File \u001b[0;32m\"<ipython-input-1-0b4026e24fa3>\"\u001b[0;36m, line \u001b[0;32m1\u001b[0m\n\u001b[0;31m    https://github.com/gen5isbettter/Data-Science\u001b[0m\n\u001b[0m           ^\u001b[0m\n\u001b[0;31mSyntaxError\u001b[0m\u001b[0;31m:\u001b[0m invalid syntax\n"
          ]
        }
      ]
    },
    {
      "cell_type": "markdown",
      "metadata": {
        "id": "QSNh2TSUOceZ",
        "colab_type": "text"
      },
      "source": [
        "**Quiestion 7**: Provide the same GitHub url on bridges."
      ]
    },
    {
      "cell_type": "code",
      "metadata": {
        "id": "2RZNArgw7xNy",
        "colab_type": "code",
        "colab": {}
      },
      "source": [
        ""
      ],
      "execution_count": null,
      "outputs": []
    },
    {
      "cell_type": "code",
      "metadata": {
        "id": "ehRrf4XcAbb1",
        "colab_type": "code",
        "colab": {}
      },
      "source": [
        ""
      ],
      "execution_count": null,
      "outputs": []
    }
  ]
}